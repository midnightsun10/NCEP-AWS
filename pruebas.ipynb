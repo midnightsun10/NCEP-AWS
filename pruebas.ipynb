{
 "cells": [
  {
   "cell_type": "code",
   "execution_count": 2,
   "id": "301c7c74-1d46-405c-b518-5f0deac22d69",
   "metadata": {},
   "outputs": [],
   "source": [
    "import pandas as pd\n",
    "import sys\n",
    "sys.path.append('/home/brayan/mnsun/')\n",
    "from utils import check_dir\n",
    "import os"
   ]
  },
  {
   "cell_type": "markdown",
   "id": "56b354c5-1290-412d-bced-689f77b413fd",
   "metadata": {},
   "source": [
    "## Create Scrip "
   ]
  },
  {
   "cell_type": "code",
   "execution_count": 11,
   "id": "27f8a8bc-d85d-4003-a750-fe02cbefdadd",
   "metadata": {},
   "outputs": [],
   "source": [
    "actual_date   = \"20181101\" #\"\".join(str(os.environ[\"date_processing\"]).split(\"-\"))\n",
    "base_line     = \"wget https://noaa-cfs-pds.s3.amazonaws.com/cfs.{ACTUAL_DATE}/{INIT}/6hrly_grib_{ENS}/ocnf{DATE_FORECAST}{INIT_FORE}.{ENS}.{ACTUAL_DATE}{INIT}.grb2\"\n",
    "OUTPUT_DIR    = \"/home/brayan/DATA/AWS/\" #str(os.environ[\"output\"])\n",
    "check_dir( OUTPUT_DIR, name=actual_date)\n",
    "init_hour     = {\"00\":\"06\", \"06\":\"12\", \"12\":\"18\", \"18\":\"00\"}\n",
    "date_forecast = pd.date_range(actual_date, freq=\"D\", periods=45+1)"
   ]
  },
  {
   "cell_type": "code",
   "execution_count": 12,
   "id": "a27fcc44-361c-4a6c-bbc4-510e10af459a",
   "metadata": {},
   "outputs": [
    {
     "data": {
      "text/plain": [
       "DatetimeIndex(['2018-11-01', '2018-11-02', '2018-11-03', '2018-11-04',\n",
       "               '2018-11-05', '2018-11-06', '2018-11-07', '2018-11-08',\n",
       "               '2018-11-09', '2018-11-10', '2018-11-11', '2018-11-12',\n",
       "               '2018-11-13', '2018-11-14', '2018-11-15', '2018-11-16',\n",
       "               '2018-11-17', '2018-11-18', '2018-11-19', '2018-11-20',\n",
       "               '2018-11-21', '2018-11-22', '2018-11-23', '2018-11-24',\n",
       "               '2018-11-25', '2018-11-26', '2018-11-27', '2018-11-28',\n",
       "               '2018-11-29', '2018-11-30', '2018-12-01', '2018-12-02',\n",
       "               '2018-12-03', '2018-12-04', '2018-12-05', '2018-12-06',\n",
       "               '2018-12-07', '2018-12-08', '2018-12-09', '2018-12-10',\n",
       "               '2018-12-11', '2018-12-12', '2018-12-13', '2018-12-14',\n",
       "               '2018-12-15', '2018-12-16'],\n",
       "              dtype='datetime64[ns]', freq='D')"
      ]
     },
     "execution_count": 12,
     "metadata": {},
     "output_type": "execute_result"
    }
   ],
   "source": [
    "date_forecast"
   ]
  },
  {
   "cell_type": "code",
   "execution_count": 13,
   "id": "8a6ed017-cf1a-4acc-ad94-57975f62582c",
   "metadata": {},
   "outputs": [],
   "source": [
    "for ens in [\"01\"]: #,\"02\", \"03\", \"04\"\n",
    "    check_dir( OUTPUT_DIR+f\"/{actual_date}/\", name=ens)\n",
    "    with open(f\"{OUTPUT_DIR}\" + f\"/{actual_date}/{ens}/\" + actual_date + \"_download.txt\", \"w\") as f:\n",
    "        for hour in [\"00\", \"06\", \"12\", \"18\"]:\n",
    "            for t in range(45):\n",
    "                if t == 0:\n",
    "                    f.write(base_line.format(ACTUAL_DATE = actual_date, INIT = hour, ENS = ens, INIT_FORE = init_hour[hour],\n",
    "                                             DATE_FORECAST = ''.join(str(date_forecast[t+1])[:10].split(\"-\")) if hour == \"18\" else ''.join(str(date_forecast[t])[:10].split(\"-\")) )+ \"\\n\")\n",
    "                else:\n",
    "                    f.write(base_line.format(ACTUAL_DATE = actual_date, INIT = hour, ENS = ens, INIT_FORE = hour,\n",
    "                             DATE_FORECAST = ''.join(str(date_forecast[t+1])[:10].split(\"-\")) if hour == \"18\" else ''.join(str(date_forecast[t])[:10].split(\"-\")) )+ \"\\n\")"
   ]
  },
  {
   "cell_type": "markdown",
   "id": "b04d9235-201b-43b5-8b60-0611326a6c95",
   "metadata": {},
   "source": [
    "# Create day data"
   ]
  },
  {
   "cell_type": "code",
   "execution_count": 6,
   "id": "9bc3496f-8e46-483f-9d8c-c805abb52df4",
   "metadata": {},
   "outputs": [],
   "source": [
    "import xarray as xr\n",
    "import warnings\n",
    "import numpy as np\n",
    "import pandas as pd\n",
    "import xesmf as xe\n",
    "import sys\n",
    "import os\n",
    "sys.path.append('/home/brayan/mnsun/')\n",
    "from utils import check_dir\n",
    "warnings.filterwarnings('ignore')"
   ]
  },
  {
   "cell_type": "code",
   "execution_count": 7,
   "id": "f0028d26-0075-4b4d-aca6-2b2e5982b8f9",
   "metadata": {},
   "outputs": [],
   "source": [
    "# Dictorionary acumulation\n",
    "day_year = {}\n",
    "acum     = 0\n",
    "day_year[\"01\"] = acum\n",
    "for contador, dm in enumerate([31, 29, 31, 30, 31, 30, 31, 31, 30, 31, 30]):\n",
    "    acum += dm\n",
    "    if contador < 8:\n",
    "        day_year[f\"0{contador+2}\"] = acum\n",
    "    else: \n",
    "        day_year[f\"{contador+2}\"] = acum"
   ]
  },
  {
   "cell_type": "code",
   "execution_count": 16,
   "id": "c5cad071-bd4e-490a-89c0-c2c92b5df88e",
   "metadata": {},
   "outputs": [],
   "source": [
    "# Start code\n",
    "actual_date = \"20181031\" # \"\".join(str(os.environ[\"date_processing\"]).split(\"-\"))\n",
    "OUTPUT_DIR  = \"/home/brayan/DATA/AWS/\" #str(os.environ[\"output\"])"
   ]
  },
  {
   "cell_type": "code",
   "execution_count": 14,
   "id": "b013605c-d05d-4df7-8e34-1503d1feb4c4",
   "metadata": {},
   "outputs": [],
   "source": [
    "var = \"uflx\""
   ]
  },
  {
   "cell_type": "code",
   "execution_count": 15,
   "id": "0714276f-a7b6-4026-88bf-451294942fe4",
   "metadata": {},
   "outputs": [],
   "source": [
    "ens = \"01\""
   ]
  },
  {
   "cell_type": "code",
   "execution_count": 18,
   "id": "4a778213-a70b-4435-9538-97657683bb79",
   "metadata": {},
   "outputs": [
    {
     "ename": "DatasetBuildError",
     "evalue": "multiple values for unique key, try re-open the file with one of:\n    filter_by_keys={'typeOfLevel': 'depthBelowSea'}\n    filter_by_keys={'typeOfLevel': 'surface'}\n    filter_by_keys={'typeOfLevel': 'unknown'}\n    filter_by_keys={'typeOfLevel': 'oceanIsotherm'}",
     "output_type": "error",
     "traceback": [
      "\u001b[0;31m---------------------------------------------------------------------------\u001b[0m",
      "\u001b[0;31mDatasetBuildError\u001b[0m                         Traceback (most recent call last)",
      "\u001b[0;32m~/anaconda3/envs/pangeo/lib/python3.7/site-packages/cfgrib/dataset.py\u001b[0m in \u001b[0;36mbuild_dataset_components\u001b[0;34m(index, errors, encode_cf, squeeze, log, read_keys, time_dims, extra_coords)\u001b[0m\n\u001b[1;32m    640\u001b[0m                 \u001b[0mtime_dims\u001b[0m\u001b[0;34m=\u001b[0m\u001b[0mtime_dims\u001b[0m\u001b[0;34m,\u001b[0m\u001b[0;34m\u001b[0m\u001b[0;34m\u001b[0m\u001b[0m\n\u001b[0;32m--> 641\u001b[0;31m                 \u001b[0mextra_coords\u001b[0m\u001b[0;34m=\u001b[0m\u001b[0mextra_coords\u001b[0m\u001b[0;34m,\u001b[0m\u001b[0;34m\u001b[0m\u001b[0;34m\u001b[0m\u001b[0m\n\u001b[0m\u001b[1;32m    642\u001b[0m             )\n",
      "\u001b[0;32m~/anaconda3/envs/pangeo/lib/python3.7/site-packages/cfgrib/dataset.py\u001b[0m in \u001b[0;36mbuild_variable_components\u001b[0;34m(index, encode_cf, filter_by_keys, log, errors, squeeze, read_keys, time_dims, extra_coords)\u001b[0m\n\u001b[1;32m    470\u001b[0m ) -> T.Tuple[T.Dict[str, int], Variable, T.Dict[str, Variable]]:\n\u001b[0;32m--> 471\u001b[0;31m     \u001b[0mdata_var_attrs\u001b[0m \u001b[0;34m=\u001b[0m \u001b[0menforce_unique_attributes\u001b[0m\u001b[0;34m(\u001b[0m\u001b[0mindex\u001b[0m\u001b[0;34m,\u001b[0m \u001b[0mDATA_ATTRIBUTES_KEYS\u001b[0m\u001b[0;34m,\u001b[0m \u001b[0mfilter_by_keys\u001b[0m\u001b[0;34m)\u001b[0m\u001b[0;34m\u001b[0m\u001b[0;34m\u001b[0m\u001b[0m\n\u001b[0m\u001b[1;32m    472\u001b[0m     \u001b[0mgrid_type_keys\u001b[0m \u001b[0;34m=\u001b[0m \u001b[0mGRID_TYPE_MAP\u001b[0m\u001b[0;34m.\u001b[0m\u001b[0mget\u001b[0m\u001b[0;34m(\u001b[0m\u001b[0mindex\u001b[0m\u001b[0;34m.\u001b[0m\u001b[0mgetone\u001b[0m\u001b[0;34m(\u001b[0m\u001b[0;34m\"gridType\"\u001b[0m\u001b[0;34m)\u001b[0m\u001b[0;34m,\u001b[0m \u001b[0;34m[\u001b[0m\u001b[0;34m]\u001b[0m\u001b[0;34m)\u001b[0m\u001b[0;34m\u001b[0m\u001b[0;34m\u001b[0m\u001b[0m\n",
      "\u001b[0;32m~/anaconda3/envs/pangeo/lib/python3.7/site-packages/cfgrib/dataset.py\u001b[0m in \u001b[0;36menforce_unique_attributes\u001b[0;34m(index, attributes_keys, filter_by_keys)\u001b[0m\n\u001b[1;32m    272\u001b[0m                 \u001b[0mfbks\u001b[0m\u001b[0;34m.\u001b[0m\u001b[0mappend\u001b[0m\u001b[0;34m(\u001b[0m\u001b[0mfbk\u001b[0m\u001b[0;34m)\u001b[0m\u001b[0;34m\u001b[0m\u001b[0;34m\u001b[0m\u001b[0m\n\u001b[0;32m--> 273\u001b[0;31m             \u001b[0;32mraise\u001b[0m \u001b[0mDatasetBuildError\u001b[0m\u001b[0;34m(\u001b[0m\u001b[0;34m\"multiple values for key %r\"\u001b[0m \u001b[0;34m%\u001b[0m \u001b[0mkey\u001b[0m\u001b[0;34m,\u001b[0m \u001b[0mkey\u001b[0m\u001b[0;34m,\u001b[0m \u001b[0mfbks\u001b[0m\u001b[0;34m)\u001b[0m\u001b[0;34m\u001b[0m\u001b[0;34m\u001b[0m\u001b[0m\n\u001b[0m\u001b[1;32m    274\u001b[0m         \u001b[0;32mif\u001b[0m \u001b[0mvalues\u001b[0m \u001b[0;32mand\u001b[0m \u001b[0mvalues\u001b[0m\u001b[0;34m[\u001b[0m\u001b[0;36m0\u001b[0m\u001b[0;34m]\u001b[0m \u001b[0;32mnot\u001b[0m \u001b[0;32min\u001b[0m \u001b[0;34m(\u001b[0m\u001b[0;34m\"undef\"\u001b[0m\u001b[0;34m,\u001b[0m \u001b[0;34m\"unknown\"\u001b[0m\u001b[0;34m)\u001b[0m\u001b[0;34m:\u001b[0m\u001b[0;34m\u001b[0m\u001b[0;34m\u001b[0m\u001b[0m\n",
      "\u001b[0;31mDatasetBuildError\u001b[0m: multiple values for key 'typeOfLevel'",
      "\nDuring handling of the above exception, another exception occurred:\n",
      "\u001b[0;31mDatasetBuildError\u001b[0m                         Traceback (most recent call last)",
      "\u001b[0;32m/tmp/ipykernel_6133/919819917.py\u001b[0m in \u001b[0;36m<module>\u001b[0;34m\u001b[0m\n\u001b[1;32m      1\u001b[0m DATA = xr.open_mfdataset(OUTPUT_DIR+actual_date+f\"/{ens}/*{actual_date}00.grb2\", \n\u001b[0;32m----> 2\u001b[0;31m                                  \u001b[0mengine\u001b[0m\u001b[0;34m=\u001b[0m\u001b[0;34m\"cfgrib\"\u001b[0m\u001b[0;34m,\u001b[0m \u001b[0mconcat_dim\u001b[0m \u001b[0;34m=\u001b[0m \u001b[0;34m'time'\u001b[0m\u001b[0;34m,\u001b[0m \u001b[0mcombine\u001b[0m\u001b[0;34m=\u001b[0m\u001b[0;34m'nested'\u001b[0m\u001b[0;34m)\u001b[0m\u001b[0;34m.\u001b[0m\u001b[0msel\u001b[0m\u001b[0;34m(\u001b[0m\u001b[0mlatitude\u001b[0m\u001b[0;34m=\u001b[0m\u001b[0mslice\u001b[0m\u001b[0;34m(\u001b[0m\u001b[0;36m30\u001b[0m\u001b[0;34m,\u001b[0m\u001b[0;34m-\u001b[0m\u001b[0;36m30\u001b[0m\u001b[0;34m)\u001b[0m\u001b[0;34m,\u001b[0m\u001b[0;34m\u001b[0m\u001b[0;34m\u001b[0m\u001b[0m\n\u001b[0m\u001b[1;32m      3\u001b[0m                                                                            longitude=slice(90,298))\n",
      "\u001b[0;32m~/anaconda3/envs/pangeo/lib/python3.7/site-packages/xarray/backends/api.py\u001b[0m in \u001b[0;36mopen_mfdataset\u001b[0;34m(paths, chunks, concat_dim, compat, preprocess, engine, data_vars, coords, combine, parallel, join, attrs_file, combine_attrs, **kwargs)\u001b[0m\n\u001b[1;32m    906\u001b[0m         \u001b[0mgetattr_\u001b[0m \u001b[0;34m=\u001b[0m \u001b[0mgetattr\u001b[0m\u001b[0;34m\u001b[0m\u001b[0;34m\u001b[0m\u001b[0m\n\u001b[1;32m    907\u001b[0m \u001b[0;34m\u001b[0m\u001b[0m\n\u001b[0;32m--> 908\u001b[0;31m     \u001b[0mdatasets\u001b[0m \u001b[0;34m=\u001b[0m \u001b[0;34m[\u001b[0m\u001b[0mopen_\u001b[0m\u001b[0;34m(\u001b[0m\u001b[0mp\u001b[0m\u001b[0;34m,\u001b[0m \u001b[0;34m**\u001b[0m\u001b[0mopen_kwargs\u001b[0m\u001b[0;34m)\u001b[0m \u001b[0;32mfor\u001b[0m \u001b[0mp\u001b[0m \u001b[0;32min\u001b[0m \u001b[0mpaths\u001b[0m\u001b[0;34m]\u001b[0m\u001b[0;34m\u001b[0m\u001b[0;34m\u001b[0m\u001b[0m\n\u001b[0m\u001b[1;32m    909\u001b[0m     \u001b[0mclosers\u001b[0m \u001b[0;34m=\u001b[0m \u001b[0;34m[\u001b[0m\u001b[0mgetattr_\u001b[0m\u001b[0;34m(\u001b[0m\u001b[0mds\u001b[0m\u001b[0;34m,\u001b[0m \u001b[0;34m\"_close\"\u001b[0m\u001b[0;34m)\u001b[0m \u001b[0;32mfor\u001b[0m \u001b[0mds\u001b[0m \u001b[0;32min\u001b[0m \u001b[0mdatasets\u001b[0m\u001b[0;34m]\u001b[0m\u001b[0;34m\u001b[0m\u001b[0;34m\u001b[0m\u001b[0m\n\u001b[1;32m    910\u001b[0m     \u001b[0;32mif\u001b[0m \u001b[0mpreprocess\u001b[0m \u001b[0;32mis\u001b[0m \u001b[0;32mnot\u001b[0m \u001b[0;32mNone\u001b[0m\u001b[0;34m:\u001b[0m\u001b[0;34m\u001b[0m\u001b[0;34m\u001b[0m\u001b[0m\n",
      "\u001b[0;32m~/anaconda3/envs/pangeo/lib/python3.7/site-packages/xarray/backends/api.py\u001b[0m in \u001b[0;36m<listcomp>\u001b[0;34m(.0)\u001b[0m\n\u001b[1;32m    906\u001b[0m         \u001b[0mgetattr_\u001b[0m \u001b[0;34m=\u001b[0m \u001b[0mgetattr\u001b[0m\u001b[0;34m\u001b[0m\u001b[0;34m\u001b[0m\u001b[0m\n\u001b[1;32m    907\u001b[0m \u001b[0;34m\u001b[0m\u001b[0m\n\u001b[0;32m--> 908\u001b[0;31m     \u001b[0mdatasets\u001b[0m \u001b[0;34m=\u001b[0m \u001b[0;34m[\u001b[0m\u001b[0mopen_\u001b[0m\u001b[0;34m(\u001b[0m\u001b[0mp\u001b[0m\u001b[0;34m,\u001b[0m \u001b[0;34m**\u001b[0m\u001b[0mopen_kwargs\u001b[0m\u001b[0;34m)\u001b[0m \u001b[0;32mfor\u001b[0m \u001b[0mp\u001b[0m \u001b[0;32min\u001b[0m \u001b[0mpaths\u001b[0m\u001b[0;34m]\u001b[0m\u001b[0;34m\u001b[0m\u001b[0;34m\u001b[0m\u001b[0m\n\u001b[0m\u001b[1;32m    909\u001b[0m     \u001b[0mclosers\u001b[0m \u001b[0;34m=\u001b[0m \u001b[0;34m[\u001b[0m\u001b[0mgetattr_\u001b[0m\u001b[0;34m(\u001b[0m\u001b[0mds\u001b[0m\u001b[0;34m,\u001b[0m \u001b[0;34m\"_close\"\u001b[0m\u001b[0;34m)\u001b[0m \u001b[0;32mfor\u001b[0m \u001b[0mds\u001b[0m \u001b[0;32min\u001b[0m \u001b[0mdatasets\u001b[0m\u001b[0;34m]\u001b[0m\u001b[0;34m\u001b[0m\u001b[0;34m\u001b[0m\u001b[0m\n\u001b[1;32m    910\u001b[0m     \u001b[0;32mif\u001b[0m \u001b[0mpreprocess\u001b[0m \u001b[0;32mis\u001b[0m \u001b[0;32mnot\u001b[0m \u001b[0;32mNone\u001b[0m\u001b[0;34m:\u001b[0m\u001b[0;34m\u001b[0m\u001b[0;34m\u001b[0m\u001b[0m\n",
      "\u001b[0;32m~/anaconda3/envs/pangeo/lib/python3.7/site-packages/xarray/backends/api.py\u001b[0m in \u001b[0;36mopen_dataset\u001b[0;34m(filename_or_obj, engine, chunks, cache, decode_cf, mask_and_scale, decode_times, decode_timedelta, use_cftime, concat_characters, decode_coords, drop_variables, backend_kwargs, *args, **kwargs)\u001b[0m\n\u001b[1;32m    497\u001b[0m         \u001b[0mdrop_variables\u001b[0m\u001b[0;34m=\u001b[0m\u001b[0mdrop_variables\u001b[0m\u001b[0;34m,\u001b[0m\u001b[0;34m\u001b[0m\u001b[0;34m\u001b[0m\u001b[0m\n\u001b[1;32m    498\u001b[0m         \u001b[0;34m**\u001b[0m\u001b[0mdecoders\u001b[0m\u001b[0;34m,\u001b[0m\u001b[0;34m\u001b[0m\u001b[0;34m\u001b[0m\u001b[0m\n\u001b[0;32m--> 499\u001b[0;31m         \u001b[0;34m**\u001b[0m\u001b[0mkwargs\u001b[0m\u001b[0;34m,\u001b[0m\u001b[0;34m\u001b[0m\u001b[0;34m\u001b[0m\u001b[0m\n\u001b[0m\u001b[1;32m    500\u001b[0m     )\n\u001b[1;32m    501\u001b[0m     ds = _dataset_from_backend_dataset(\n",
      "\u001b[0;32m~/anaconda3/envs/pangeo/lib/python3.7/site-packages/cfgrib/xarray_plugin.py\u001b[0m in \u001b[0;36mopen_dataset\u001b[0;34m(self, filename_or_obj, mask_and_scale, decode_times, concat_characters, decode_coords, drop_variables, use_cftime, decode_timedelta, lock, indexpath, filter_by_keys, read_keys, encode_cf, squeeze, time_dims, errors, extra_coords)\u001b[0m\n\u001b[1;32m    107\u001b[0m             \u001b[0mlock\u001b[0m\u001b[0;34m=\u001b[0m\u001b[0mlock\u001b[0m\u001b[0;34m,\u001b[0m\u001b[0;34m\u001b[0m\u001b[0;34m\u001b[0m\u001b[0m\n\u001b[1;32m    108\u001b[0m             \u001b[0merrors\u001b[0m\u001b[0;34m=\u001b[0m\u001b[0merrors\u001b[0m\u001b[0;34m,\u001b[0m\u001b[0;34m\u001b[0m\u001b[0;34m\u001b[0m\u001b[0m\n\u001b[0;32m--> 109\u001b[0;31m             \u001b[0mextra_coords\u001b[0m\u001b[0;34m=\u001b[0m\u001b[0mextra_coords\u001b[0m\u001b[0;34m,\u001b[0m\u001b[0;34m\u001b[0m\u001b[0;34m\u001b[0m\u001b[0m\n\u001b[0m\u001b[1;32m    110\u001b[0m         )\n\u001b[1;32m    111\u001b[0m         \u001b[0;32mwith\u001b[0m \u001b[0mxr\u001b[0m\u001b[0;34m.\u001b[0m\u001b[0mcore\u001b[0m\u001b[0;34m.\u001b[0m\u001b[0mutils\u001b[0m\u001b[0;34m.\u001b[0m\u001b[0mclose_on_error\u001b[0m\u001b[0;34m(\u001b[0m\u001b[0mstore\u001b[0m\u001b[0;34m)\u001b[0m\u001b[0;34m:\u001b[0m\u001b[0;34m\u001b[0m\u001b[0;34m\u001b[0m\u001b[0m\n",
      "\u001b[0;32m~/anaconda3/envs/pangeo/lib/python3.7/site-packages/cfgrib/xarray_plugin.py\u001b[0m in \u001b[0;36m__init__\u001b[0;34m(self, filename, lock, **backend_kwargs)\u001b[0m\n\u001b[1;32m     37\u001b[0m         \u001b[0;32melse\u001b[0m\u001b[0;34m:\u001b[0m\u001b[0;34m\u001b[0m\u001b[0;34m\u001b[0m\u001b[0m\n\u001b[1;32m     38\u001b[0m             \u001b[0mopener\u001b[0m \u001b[0;34m=\u001b[0m \u001b[0mdataset\u001b[0m\u001b[0;34m.\u001b[0m\u001b[0mopen_fieldset\u001b[0m\u001b[0;34m\u001b[0m\u001b[0;34m\u001b[0m\u001b[0m\n\u001b[0;32m---> 39\u001b[0;31m         \u001b[0mself\u001b[0m\u001b[0;34m.\u001b[0m\u001b[0mds\u001b[0m \u001b[0;34m=\u001b[0m \u001b[0mopener\u001b[0m\u001b[0;34m(\u001b[0m\u001b[0mfilename\u001b[0m\u001b[0;34m,\u001b[0m \u001b[0;34m**\u001b[0m\u001b[0mbackend_kwargs\u001b[0m\u001b[0;34m)\u001b[0m\u001b[0;34m\u001b[0m\u001b[0;34m\u001b[0m\u001b[0m\n\u001b[0m\u001b[1;32m     40\u001b[0m \u001b[0;34m\u001b[0m\u001b[0m\n\u001b[1;32m     41\u001b[0m     \u001b[0;32mdef\u001b[0m \u001b[0mopen_store_variable\u001b[0m\u001b[0;34m(\u001b[0m\u001b[0mself\u001b[0m\u001b[0;34m,\u001b[0m \u001b[0mvar\u001b[0m\u001b[0;34m:\u001b[0m \u001b[0mdataset\u001b[0m\u001b[0;34m.\u001b[0m\u001b[0mVariable\u001b[0m\u001b[0;34m,\u001b[0m\u001b[0;34m)\u001b[0m \u001b[0;34m->\u001b[0m \u001b[0mxr\u001b[0m\u001b[0;34m.\u001b[0m\u001b[0mVariable\u001b[0m\u001b[0;34m:\u001b[0m\u001b[0;34m\u001b[0m\u001b[0;34m\u001b[0m\u001b[0m\n",
      "\u001b[0;32m~/anaconda3/envs/pangeo/lib/python3.7/site-packages/cfgrib/dataset.py\u001b[0m in \u001b[0;36mopen_file\u001b[0;34m(path, grib_errors, indexpath, filter_by_keys, read_keys, time_dims, extra_coords, **kwargs)\u001b[0m\n\u001b[1;32m    762\u001b[0m     \u001b[0mindex\u001b[0m \u001b[0;34m=\u001b[0m \u001b[0mopen_fileindex\u001b[0m\u001b[0;34m(\u001b[0m\u001b[0mstream\u001b[0m\u001b[0;34m,\u001b[0m \u001b[0mindexpath\u001b[0m\u001b[0;34m,\u001b[0m \u001b[0mindex_keys\u001b[0m\u001b[0;34m,\u001b[0m \u001b[0mfilter_by_keys\u001b[0m\u001b[0;34m=\u001b[0m\u001b[0mfilter_by_keys\u001b[0m\u001b[0;34m)\u001b[0m\u001b[0;34m\u001b[0m\u001b[0;34m\u001b[0m\u001b[0m\n\u001b[1;32m    763\u001b[0m \u001b[0;34m\u001b[0m\u001b[0m\n\u001b[0;32m--> 764\u001b[0;31m     \u001b[0;32mreturn\u001b[0m \u001b[0mopen_from_index\u001b[0m\u001b[0;34m(\u001b[0m\u001b[0mindex\u001b[0m\u001b[0;34m,\u001b[0m \u001b[0mread_keys\u001b[0m\u001b[0;34m,\u001b[0m \u001b[0mtime_dims\u001b[0m\u001b[0;34m,\u001b[0m \u001b[0mextra_coords\u001b[0m\u001b[0;34m,\u001b[0m \u001b[0;34m**\u001b[0m\u001b[0mkwargs\u001b[0m\u001b[0;34m)\u001b[0m\u001b[0;34m\u001b[0m\u001b[0;34m\u001b[0m\u001b[0m\n\u001b[0m",
      "\u001b[0;32m~/anaconda3/envs/pangeo/lib/python3.7/site-packages/cfgrib/dataset.py\u001b[0m in \u001b[0;36mopen_from_index\u001b[0;34m(index, read_keys, time_dims, extra_coords, **kwargs)\u001b[0m\n\u001b[1;32m    705\u001b[0m ) -> Dataset:\n\u001b[1;32m    706\u001b[0m     dimensions, variables, attributes, encoding = build_dataset_components(\n\u001b[0;32m--> 707\u001b[0;31m         \u001b[0mindex\u001b[0m\u001b[0;34m,\u001b[0m \u001b[0mread_keys\u001b[0m\u001b[0;34m=\u001b[0m\u001b[0mread_keys\u001b[0m\u001b[0;34m,\u001b[0m \u001b[0mtime_dims\u001b[0m\u001b[0;34m=\u001b[0m\u001b[0mtime_dims\u001b[0m\u001b[0;34m,\u001b[0m \u001b[0mextra_coords\u001b[0m\u001b[0;34m=\u001b[0m\u001b[0mextra_coords\u001b[0m\u001b[0;34m,\u001b[0m \u001b[0;34m**\u001b[0m\u001b[0mkwargs\u001b[0m\u001b[0;34m\u001b[0m\u001b[0;34m\u001b[0m\u001b[0m\n\u001b[0m\u001b[1;32m    708\u001b[0m     )\n\u001b[1;32m    709\u001b[0m     \u001b[0;32mreturn\u001b[0m \u001b[0mDataset\u001b[0m\u001b[0;34m(\u001b[0m\u001b[0mdimensions\u001b[0m\u001b[0;34m,\u001b[0m \u001b[0mvariables\u001b[0m\u001b[0;34m,\u001b[0m \u001b[0mattributes\u001b[0m\u001b[0;34m,\u001b[0m \u001b[0mencoding\u001b[0m\u001b[0;34m)\u001b[0m\u001b[0;34m\u001b[0m\u001b[0;34m\u001b[0m\u001b[0m\n",
      "\u001b[0;32m~/anaconda3/envs/pangeo/lib/python3.7/site-packages/cfgrib/dataset.py\u001b[0m in \u001b[0;36mbuild_dataset_components\u001b[0;34m(index, errors, encode_cf, squeeze, log, read_keys, time_dims, extra_coords)\u001b[0m\n\u001b[1;32m    652\u001b[0m                 \u001b[0mfbks\u001b[0m\u001b[0;34m.\u001b[0m\u001b[0mappend\u001b[0m\u001b[0;34m(\u001b[0m\u001b[0mfbk\u001b[0m\u001b[0;34m)\u001b[0m\u001b[0;34m\u001b[0m\u001b[0;34m\u001b[0m\u001b[0m\n\u001b[1;32m    653\u001b[0m                 \u001b[0merror_message\u001b[0m \u001b[0;34m+=\u001b[0m \u001b[0;34m\"\\n    filter_by_keys=%r\"\u001b[0m \u001b[0;34m%\u001b[0m \u001b[0mfbk\u001b[0m\u001b[0;34m\u001b[0m\u001b[0;34m\u001b[0m\u001b[0m\n\u001b[0;32m--> 654\u001b[0;31m             \u001b[0;32mraise\u001b[0m \u001b[0mDatasetBuildError\u001b[0m\u001b[0;34m(\u001b[0m\u001b[0merror_message\u001b[0m\u001b[0;34m,\u001b[0m \u001b[0mkey\u001b[0m\u001b[0;34m,\u001b[0m \u001b[0mfbks\u001b[0m\u001b[0;34m)\u001b[0m\u001b[0;34m\u001b[0m\u001b[0;34m\u001b[0m\u001b[0m\n\u001b[0m\u001b[1;32m    655\u001b[0m         \u001b[0mshort_name\u001b[0m \u001b[0;34m=\u001b[0m \u001b[0mdata_var\u001b[0m\u001b[0;34m.\u001b[0m\u001b[0mattributes\u001b[0m\u001b[0;34m.\u001b[0m\u001b[0mget\u001b[0m\u001b[0;34m(\u001b[0m\u001b[0;34m\"GRIB_shortName\"\u001b[0m\u001b[0;34m,\u001b[0m \u001b[0;34m\"paramId_%d\"\u001b[0m \u001b[0;34m%\u001b[0m \u001b[0mparam_id\u001b[0m\u001b[0;34m)\u001b[0m\u001b[0;34m\u001b[0m\u001b[0;34m\u001b[0m\u001b[0m\n\u001b[1;32m    656\u001b[0m         \u001b[0mvar_name\u001b[0m \u001b[0;34m=\u001b[0m \u001b[0mdata_var\u001b[0m\u001b[0;34m.\u001b[0m\u001b[0mattributes\u001b[0m\u001b[0;34m.\u001b[0m\u001b[0mget\u001b[0m\u001b[0;34m(\u001b[0m\u001b[0;34m\"GRIB_cfVarName\"\u001b[0m\u001b[0;34m,\u001b[0m \u001b[0;34m\"unknown\"\u001b[0m\u001b[0;34m)\u001b[0m\u001b[0;34m\u001b[0m\u001b[0;34m\u001b[0m\u001b[0m\n",
      "\u001b[0;31mDatasetBuildError\u001b[0m: multiple values for unique key, try re-open the file with one of:\n    filter_by_keys={'typeOfLevel': 'depthBelowSea'}\n    filter_by_keys={'typeOfLevel': 'surface'}\n    filter_by_keys={'typeOfLevel': 'unknown'}\n    filter_by_keys={'typeOfLevel': 'oceanIsotherm'}"
     ]
    }
   ],
   "source": [
    "DATA = xr.open_mfdataset(OUTPUT_DIR+actual_date+f\"/{ens}/*{actual_date}00.grb2\", \n",
    "                                 engine=\"cfgrib\", concat_dim = 'time', combine='nested').sel(latitude=slice(30,-30),\n",
    "                                                                           longitude=slice(90,298))"
   ]
  },
  {
   "cell_type": "code",
   "execution_count": null,
   "id": "ade60cf3-ccb4-4859-93b4-69d8ed1b71d5",
   "metadata": {},
   "outputs": [],
   "source": []
  },
  {
   "cell_type": "code",
   "execution_count": null,
   "id": "ea9ba893-a11c-42bb-ad16-5c90a0ccf542",
   "metadata": {},
   "outputs": [],
   "source": []
  },
  {
   "cell_type": "code",
   "execution_count": null,
   "id": "4a70c7c5-1775-4c1d-96c2-0a7d26d5fcc8",
   "metadata": {},
   "outputs": [],
   "source": []
  }
 ],
 "metadata": {
  "kernelspec": {
   "display_name": "pangeo",
   "language": "python",
   "name": "pangeo"
  },
  "language_info": {
   "codemirror_mode": {
    "name": "ipython",
    "version": 3
   },
   "file_extension": ".py",
   "mimetype": "text/x-python",
   "name": "python",
   "nbconvert_exporter": "python",
   "pygments_lexer": "ipython3",
   "version": "3.7.12"
  }
 },
 "nbformat": 4,
 "nbformat_minor": 5
}
